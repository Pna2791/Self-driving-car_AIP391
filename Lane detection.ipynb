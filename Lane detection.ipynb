{
 "cells": [
  {
   "cell_type": "code",
   "execution_count": 2,
   "metadata": {},
   "outputs": [],
   "source": [
    "#import\n",
    "import cv2\n",
    "from helper_function import *\n",
    "# from tkinter import * "
   ]
  },
  {
   "cell_type": "markdown",
   "metadata": {},
   "source": [
    "<h3>Extract frames from original video<h3>"
   ]
  },
  {
   "cell_type": "code",
   "execution_count": null,
   "metadata": {},
   "outputs": [],
   "source": [
    "#extract frames from original video -> change FPS to 10\n",
    "KPS = 1\n",
    "original_video_path = \"D:\\Desktop\\AIP391\\Lane detection/original.mp4\"\n",
    "frames_path = \"D:\\Desktop\\AIP391\\Lane detection\\Frames/\"\n",
    "\n",
    "cap = cv2.VideoCapture(original_video_path)\n",
    "\n",
    "videoFPS = round(cap.get(cv2.CAP_PROP_FPS))\n",
    "print (f\"videoFPS: {videoFPS}\")\n",
    "\n",
    "frame_ite = 0\n",
    "ratio_fps = videoFPS/KPS\n",
    "while(True):\n",
    "    ret, frame = cap.read()\n",
    "    if not ret: break\n",
    "    if frame_ite%ratio_fps == 0:\n",
    "        cv2.imwrite(naming_path(frames_path, frame_ite, 6, \".png\"), frame)\n",
    "    frame_ite+=1\n",
    "\n",
    "cap.release()"
   ]
  },
  {
   "cell_type": "markdown",
   "metadata": {},
   "source": [
    "<h3>Testing Hough transform on an image<h3>"
   ]
  },
  {
   "cell_type": "code",
   "execution_count": null,
   "metadata": {},
   "outputs": [],
   "source": [
    "#Convert original image to grayscale\n",
    "image_path = \"D:\\Desktop\\AIP391\\Lane detection\\Frames/011700.png\"\n",
    "gray_img = cv2.imread(image_path, 0)\n",
    "cv2.imshow(\"gray_scale\", gray_img)\n",
    "cv2.waitKey(0) \n",
    "cv2.destroyAllWindows() "
   ]
  },
  {
   "cell_type": "code",
   "execution_count": null,
   "metadata": {},
   "outputs": [],
   "source": [
    "#Darkened the grayscale image (this help in reducing contrast from discoloured regions of road)\n",
    "dark_gray_img = adjust_gamma(gray_img, 0.5)"
   ]
  },
  {
   "cell_type": "markdown",
   "metadata": {},
   "source": [
    "<h3>Labeling frames<h3>"
   ]
  },
  {
   "cell_type": "code",
   "execution_count": 3,
   "metadata": {},
   "outputs": [
    {
     "name": "stdout",
     "output_type": "stream",
     "text": [
      "120\n",
      "120\n",
      "120\n",
      "120\n",
      "120\n"
     ]
    }
   ],
   "source": [
    "original_video_path = \"D:\\Desktop\\AIP391\\Lane detection/original.mp4\"\n",
    "labeling_saving_path = \"D:/Desktop/AIP391/Lane detection/data/\"\n",
    "\n",
    "def labeling(frame):\n",
    "    cv2.imshow(\"frame\",frame)\n",
    "    print(cv2.waitKey(0))\n",
    "\n",
    "cap = cv2.VideoCapture(original_video_path)\n",
    "for i in range(5):\n",
    "    ret, frame = cap.read()\n",
    "    if not ret: \n",
    "        break\n",
    "    labeling(frame=frame)\n",
    "    cv2.imwrite(labeling_saving_path+f\"{i}.png\", frame)\n",
    "cap.release()"
   ]
  }
 ],
 "metadata": {
  "interpreter": {
   "hash": "c4a465a17673be03a44ca7fa746754d75fdc57eb9fa0aba8ff710a74189c4e9d"
  },
  "kernelspec": {
   "display_name": "Python 3.9.2 64-bit",
   "language": "python",
   "name": "python3"
  },
  "language_info": {
   "codemirror_mode": {
    "name": "ipython",
    "version": 3
   },
   "file_extension": ".py",
   "mimetype": "text/x-python",
   "name": "python",
   "nbconvert_exporter": "python",
   "pygments_lexer": "ipython3",
   "version": "3.9.2"
  },
  "orig_nbformat": 4
 },
 "nbformat": 4,
 "nbformat_minor": 2
}
